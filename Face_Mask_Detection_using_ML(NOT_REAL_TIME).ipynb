{
  "cells": [
    {
      "cell_type": "markdown",
      "metadata": {
        "id": "view-in-github",
        "colab_type": "text"
      },
      "source": [
        "<a href=\"https://colab.research.google.com/github/Narthanasiva/Narthanasiva/blob/main/Face_Mask_Detection_using_ML(NOT_REAL_TIME).ipynb\" target=\"_parent\"><img src=\"https://colab.research.google.com/assets/colab-badge.svg\" alt=\"Open In Colab\"/></a>"
      ]
    },
    {
      "cell_type": "markdown",
      "metadata": {
        "id": "M6_R7d__XOD4"
      },
      "source": [
        "# **Step 01 : Import necessary libraries**"
      ]
    },
    {
      "cell_type": "markdown",
      "metadata": {
        "id": "kaRPkWZ5XhtO"
      },
      "source": [
        "In colab no need to install any libraries. Just import the required packages"
      ]
    },
    {
      "cell_type": "code",
      "execution_count": 1,
      "metadata": {
        "id": "e7xrIVK-X4RU"
      },
      "outputs": [],
      "source": [
        "import numpy as np                                                               #for array calculations\n",
        "import cv2                                                                       #for image processing tasks\n",
        "from imutils import paths                                                        #repeatedly find images based on a root directory\n",
        "import matplotlib.pyplot as plt\n",
        "from sklearn.model_selection import train_test_split\n",
        "import tensorflow as tf\n",
        "from tensorflow.keras import layers                                              #for deep learning model\n",
        "from tensorflow.keras.models import Sequential\n",
        "from sklearn.metrics import classification_report                                #representation of the main classification metrics on a per-class basis"
      ]
    },
    {
      "cell_type": "markdown",
      "metadata": {
        "id": "zwmvvOmzZ9uW"
      },
      "source": [
        "# **Step 02 : Download the dataset and Set path to read the image dataset**"
      ]
    },
    {
      "cell_type": "markdown",
      "metadata": {
        "id": "XWpyQJJLaOL3"
      },
      "source": [
        "dataset :\n",
        " https://www.kaggle.com/omkargurav/face-mask-dataset?select=data\n",
        "\n",
        "\n",
        " download it from the kaggle\n"
      ]
    },
    {
      "cell_type": "code",
      "execution_count": 2,
      "metadata": {
        "id": "U1bk9WHCWc5z"
      },
      "outputs": [],
      "source": [
        "import os\n",
        "os.environ['KAGGLE_USERNAME']='narthanasivalingam'\n",
        "os.environ['KAGGLE_KEY']='50f1d43b3b581792791ac4d94d21d414'"
      ]
    },
    {
      "cell_type": "code",
      "execution_count": 3,
      "metadata": {
        "colab": {
          "base_uri": "https://localhost:8080/"
        },
        "id": "1iAkXuWnYqV2",
        "outputId": "491f58a3-96fc-4f4b-fc72-4f3e4f971053"
      },
      "outputs": [
        {
          "output_type": "stream",
          "name": "stdout",
          "text": [
            "Downloading face-mask-dataset.zip to /content\n",
            " 96% 156M/163M [00:01<00:00, 126MB/s]\n",
            "100% 163M/163M [00:01<00:00, 120MB/s]\n"
          ]
        }
      ],
      "source": [
        "! kaggle datasets download -d omkargurav/face-mask-dataset    #comandline script ;    ! - used to download any packages in colab"
      ]
    },
    {
      "cell_type": "code",
      "execution_count": null,
      "metadata": {
        "id": "FJ7GgABhabF1"
      },
      "outputs": [],
      "source": [
        "! unzip face-mask-dataset.zip "
      ]
    },
    {
      "cell_type": "code",
      "execution_count": 5,
      "metadata": {
        "id": "mAHHxDiTbQW0"
      },
      "outputs": [],
      "source": [
        "withMaskPath = \"/content/data/with_mask\"\n",
        "withoutMaskPath = \"/content/data/without_mask\""
      ]
    },
    {
      "cell_type": "markdown",
      "metadata": {
        "id": "TGHXUgTYcnTm"
      },
      "source": [
        "Using paths from imutils package we are creating a list of all the image paths"
      ]
    },
    {
      "cell_type": "code",
      "execution_count": 6,
      "metadata": {
        "id": "0ZfFJfpGco6q"
      },
      "outputs": [],
      "source": [
        "withMaskImagePaths = list(paths.list_images(withMaskPath))\n",
        "withoutMaskImagePaths = list(paths.list_images(withoutMaskPath))"
      ]
    },
    {
      "cell_type": "markdown",
      "metadata": {
        "id": "RLrF51wjfYRa"
      },
      "source": [
        "# **Step 03 : Dataset preprocessing**"
      ]
    },
    {
      "cell_type": "markdown",
      "metadata": {
        "id": "Gd_7vnPYfgwa"
      },
      "source": [
        "Read each image and save it in the form of pixel in x.\n",
        "This is for computational manipulatuin of images.\n",
        "\n"
      ]
    },
    {
      "cell_type": "code",
      "execution_count": 7,
      "metadata": {
        "colab": {
          "base_uri": "https://localhost:8080/"
        },
        "id": "_KuEKa-5q5xz",
        "outputId": "565a6958-6546-4c89-e6f8-2b10df674325"
      },
      "outputs": [
        {
          "output_type": "stream",
          "name": "stdout",
          "text": [
            "7553\n"
          ]
        }
      ],
      "source": [
        "x=[]\n",
        "\n",
        "combinedDataset = withMaskImagePaths + withoutMaskImagePaths\n",
        "\n",
        "for imagePath in combinedDataset:\n",
        "  imageArray = cv2.imread(imagePath)\n",
        "  imageSize = 50\n",
        "  newImageArray  = cv2.resize(imageArray, (imageSize, imageSize))\n",
        "  x.append(newImageArray)\n",
        "print(len(x))"
      ]
    },
    {
      "cell_type": "markdown",
      "metadata": {
        "id": "lZmzQSqfOyS2"
      },
      "source": [
        "We have created a list of integers representing the output (y). 1 represents with_mask and 0 represents."
      ]
    },
    {
      "cell_type": "code",
      "execution_count": 8,
      "metadata": {
        "id": "lViCX63vO_Il"
      },
      "outputs": [],
      "source": [
        "y = np.array([1]*len(withMaskImagePaths) + [0]*len(withoutMaskImagePaths))\n",
        "x = np.array(x)"
      ]
    },
    {
      "cell_type": "markdown",
      "metadata": {
        "id": "JzOA8YXuPPeJ"
      },
      "source": [
        "# Step 04 : Split the dataset for training & testing**"
      ]
    },
    {
      "cell_type": "code",
      "execution_count": 9,
      "metadata": {
        "id": "CynL6JOoPu2d"
      },
      "outputs": [],
      "source": [
        "x_train, x_test, y_train, y_test = train_test_split(x, y,test_size=0.3, random_state=1)   "
      ]
    },
    {
      "cell_type": "markdown",
      "metadata": {
        "id": "_ffACgoLf-Ho"
      },
      "source": [
        "# **Step 05 : Training the model**"
      ]
    },
    {
      "cell_type": "code",
      "execution_count": null,
      "metadata": {
        "id": "TLd7WjTRgWSv"
      },
      "outputs": [],
      "source": [
        "model = Sequential([\n",
        "  layers.experimental.preprocessing.Rescaling(1./255, input_shape=(50, 50, 3)),\n",
        "  layers.Conv2D(16, 3, padding='same', activation='relu'),\n",
        "  layers.MaxPooling2D(),\n",
        "  layers.Conv2D(32, 3, padding='same', activation='relu'),\n",
        "  layers.MaxPooling2D(),\n",
        "  layers.Conv2D(64, 3, padding='same', activation='relu'),\n",
        "  layers.MaxPooling2D(),\n",
        "  layers.Flatten(),\n",
        "  layers.Dense(128, activation='relu'),\n",
        "  layers.Dense(2)\n",
        "])\n",
        "model.compile(optimizer='adam',\n",
        "              loss=tf.keras.losses.SparseCategoricalCrossentropy(from_logits=True),\n",
        "              metrics=['accuracy'])\n",
        "model.fit(x_train, y_train, epochs=10)"
      ]
    },
    {
      "cell_type": "code",
      "source": [
        "model.save('face-mask-image-classfication.h5')"
      ],
      "metadata": {
        "id": "hAH58YmbGlHs"
      },
      "execution_count": 11,
      "outputs": []
    },
    {
      "cell_type": "markdown",
      "metadata": {
        "id": "tm8MPbcag3Ou"
      },
      "source": [
        "# **Step 06 : Predictions**"
      ]
    },
    {
      "cell_type": "code",
      "execution_count": 12,
      "metadata": {
        "colab": {
          "base_uri": "https://localhost:8080/"
        },
        "id": "Vc9CYx8qhC9U",
        "outputId": "9708a08b-159b-446d-96ba-6478521d36c4"
      },
      "outputs": [
        {
          "output_type": "stream",
          "name": "stdout",
          "text": [
            "71/71 [==============================] - 1s 5ms/step - loss: 0.1924 - accuracy: 0.9457\n"
          ]
        },
        {
          "output_type": "execute_result",
          "data": {
            "text/plain": [
              "[0.19235336780548096, 0.945719301700592]"
            ]
          },
          "metadata": {},
          "execution_count": 12
        }
      ],
      "source": [
        "model.evaluate(x_test, y_test)                                                  #using test set"
      ]
    },
    {
      "cell_type": "markdown",
      "metadata": {
        "id": "umzpKJgHiBQA"
      },
      "source": [
        "Classification report gives more detail about the accuracy using the testing set"
      ]
    },
    {
      "cell_type": "code",
      "execution_count": 13,
      "metadata": {
        "id": "pBkz-3fwiRlX"
      },
      "outputs": [],
      "source": [
        "y_preds = model.predict(x_test)\n",
        "y_pred_classes = [np.argmax(element) for element in y_preds]\n",
        "#print('classfication report:' , classification_report(y_test, y_pred_classes))"
      ]
    },
    {
      "cell_type": "markdown",
      "metadata": {
        "id": "HfbLNVCWlvlR"
      },
      "source": [
        "***Randomly choose a image from the test set of with_out mask and predict its ootput***"
      ]
    },
    {
      "cell_type": "code",
      "source": [
        "classes=[\"with_mask\",\"without_mask\"]\n",
        "imageArray = cv2.imread(withoutMaskImagePaths[1000])\n",
        "newImageArray  = cv2.resize(imageArray, (imageSize, imageSize))\n",
        "plt.imshow(newImageArray)\n",
        "plt.show()\n",
        "image = np.array(newImageArray, dtype=\"float32\")\n",
        "image= np.expand_dims(image, axis=0)\n",
        "prediction  = model.predict(image)\n",
        "index = np.argmax(prediction[0],axis=0)\n",
        "print('prediction:', classes[index])"
      ],
      "metadata": {
        "colab": {
          "base_uri": "https://localhost:8080/",
          "height": 284
        },
        "id": "A6NqgtbVEVSe",
        "outputId": "5914fd22-09c8-4c70-ba5b-ec100ddffd8f"
      },
      "execution_count": 15,
      "outputs": [
        {
          "output_type": "display_data",
          "data": {
            "image/png": "[encoded data removed]",
            "text/plain": [
              "<Figure size 432x288 with 1 Axes>"
            ]
          },
          "metadata": {
            "needs_background": "light"
          }
        },
        {
          "output_type": "stream",
          "name": "stdout",
          "text": [
            "prediction: with_mask\n"
          ]
        }
      ]
    },
    {
      "cell_type": "markdown",
      "source": [
        "***Randomly choose a image from the test set of with_out mask and predict its ootput***"
      ],
      "metadata": {
        "id": "MpQ5IjUqExLw"
      }
    },
    {
      "cell_type": "code",
      "source": [
        "imageArray = cv2.imread(withMaskImagePaths[900])\n",
        "newImageArray  = cv2.resize(imageArray, (imageSize, imageSize))\n",
        "plt.imshow(newImageArray)\n",
        "plt.show()\n",
        "image = np.array(newImageArray, dtype=\"float32\")\n",
        "image= np.expand_dims(image, axis=0)\n",
        "prediction  = model.predict(image)\n",
        "index = np.argmax(prediction[0],axis=0)\n",
        "print('prediction:', classes[index])"
      ],
      "metadata": {
        "colab": {
          "base_uri": "https://localhost:8080/",
          "height": 284
        },
        "id": "vbePtvydE2oa",
        "outputId": "f73ed76a-e2e8-42ea-9133-3b572105ae43"
      },
      "execution_count": 16,
      "outputs": [
        {
          "output_type": "display_data",
          "data": {
            "image/png": "[encoded data removed]",
            "text/plain": [
              "<Figure size 432x288 with 1 Axes>"
            ]
          },
          "metadata": {
            "needs_background": "light"
          }
        },
        {
          "output_type": "stream",
          "name": "stdout",
          "text": [
            "prediction: without_mask\n"
          ]
        }
      ]
    }
  ],
  "metadata": {
    "accelerator": "GPU",
    "colab": {
      "collapsed_sections": [],
      "name": "Face_Mask_Detection_using_ML(NOT REAL-TIME).ipynb",
      "provenance": [],
      "include_colab_link": true
    },
    "kernelspec": {
      "display_name": "Python 3",
      "name": "python3"
    },
    "language_info": {
      "name": "python"
    }
  },
  "nbformat": 4,
  "nbformat_minor": 0
}