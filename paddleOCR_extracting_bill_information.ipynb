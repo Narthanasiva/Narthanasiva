{
  "nbformat": 4,
  "nbformat_minor": 0,
  "metadata": {
    "colab": {
      "name": "paddleOCR-extracting bill information",
      "provenance": [],
      "collapsed_sections": [],
      "authorship_tag": "ABX9TyP0yXUCPHxBrHhjUoWuyjJs",
      "include_colab_link": true
    },
    "kernelspec": {
      "name": "python3",
      "display_name": "Python 3"
    },
    "language_info": {
      "name": "python"
    }
  },
  "cells": [
    {
      "cell_type": "markdown",
      "metadata": {
        "id": "view-in-github",
        "colab_type": "text"
      },
      "source": [
        "<a href=\"https://colab.research.google.com/github/Narthanasiva/Narthanasiva/blob/main/paddleOCR_extracting_bill_information.ipynb\" target=\"_parent\"><img src=\"https://colab.research.google.com/assets/colab-badge.svg\" alt=\"Open In Colab\"/></a>"
      ]
    },
    {
      "cell_type": "markdown",
      "source": [
        "# **Extracting bill information using paddle OCR.**\n"
      ],
      "metadata": {
        "id": "jLJyZZ-gCJcY"
      }
    },
    {
      "cell_type": "markdown",
      "source": [
        "\n",
        "\n",
        "> **I used paddle OCR in this work. Because it extract most attributes correctly, thus it is more accurate than Tesseract and EasyOcr models for this task**\n",
        "\n"
      ],
      "metadata": {
        "id": "uIQ7ZQLQCcwO"
      }
    },
    {
      "cell_type": "markdown",
      "source": [
        "# 01. Install the paddle ocr. And to work with paddleocr model there is no need to import opencv and pillow libraries."
      ],
      "metadata": {
        "id": "NqNQkbbrLgmT"
      }
    },
    {
      "cell_type": "code",
      "execution_count": null,
      "metadata": {
        "id": "yQarmSNZvC7K"
      },
      "outputs": [],
      "source": [
        "!pip install paddleocr"
      ]
    },
    {
      "cell_type": "code",
      "source": [
        "!pip install paddlepaddle"
      ],
      "metadata": {
        "id": "kzG-vDnUvlWi"
      },
      "execution_count": null,
      "outputs": []
    },
    {
      "cell_type": "code",
      "source": [
        "from paddleocr import PaddleOCR,draw_ocr"
      ],
      "metadata": {
        "id": "oZ_lRtXBvx8Z"
      },
      "execution_count": 4,
      "outputs": []
    },
    {
      "cell_type": "markdown",
      "source": [
        "# 02. Next, convert the image to text using the ocr. Paddleocr supports Chinese, English, French, German, Korean and Japanese. I set the language to english(\"en\") to peform this task."
      ],
      "metadata": {
        "id": "gjRpb3prMNpu"
      }
    },
    {
      "cell_type": "code",
      "source": [
        "ocr = PaddleOCR(use_angle_cls=True, lang='en')"
      ],
      "metadata": {
        "id": "1J55aSmhv7DW"
      },
      "execution_count": null,
      "outputs": []
    },
    {
      "cell_type": "code",
      "source": [
        "img_path = \"bill.jpg\"                                           #set the path of image\n",
        "result = ocr.ocr(img_path, cls=True)"
      ],
      "metadata": {
        "id": "I9cuu-n4wDfv"
      },
      "execution_count": null,
      "outputs": []
    },
    {
      "cell_type": "code",
      "source": [
        "for line in result:\n",
        "    print(line)                                                 #Output is nested list"
      ],
      "metadata": {
        "id": "x8-uQ6XGwshD"
      },
      "execution_count": null,
      "outputs": []
    },
    {
      "cell_type": "markdown",
      "source": [
        "# 03. Arranged the text using the boundary box and save the string to the list as line by line"
      ],
      "metadata": {
        "id": "7ERDFqNKNbfw"
      }
    },
    {
      "cell_type": "code",
      "source": [
        "result_length = len(result)\n",
        "\n",
        "result_line = []\n",
        "\n",
        "\n",
        "text_1 = result[0]\n",
        "text_1_height = text_1[0][3][1] - text_1[0][0][1]\n",
        "\n",
        "i = 1\n",
        "temp = [text_1]\n",
        "\n",
        "while True:\n",
        "  try:\n",
        "    if not (text_1 in temp):\n",
        "      temp.append(text_1)\n",
        "  \n",
        "    text_2 = result[i]\n",
        "\n",
        "    if (text_1[0][0][1]  - (text_1_height / 2)) < text_2[0][0][1] < (text_1[0][0][1]  + (text_1_height / 2)):\n",
        "      temp.append(text_2)\n",
        "    else:\n",
        "      temp = sorted(temp, key=lambda x: x[0][0][0])\n",
        "      temp = [x[1][0] for x in temp]\n",
        "      temp_string = \" \".join(temp)\n",
        "      result_line.append(temp_string)\n",
        "      text_1 = result[i]\n",
        "      temp = [text_1]\n",
        "    i = i +1\n",
        "  except:\n",
        "    temp = sorted(temp, key=lambda x: x[0][0][0])\n",
        "    temp = [x[1][0] for x in temp]\n",
        "    temp_string = \" \".join(temp)\n",
        "    result_line.append(temp_string)\n",
        "    break"
      ],
      "metadata": {
        "id": "n1X3zPnCjI0w"
      },
      "execution_count": 13,
      "outputs": []
    },
    {
      "cell_type": "code",
      "source": [
        "print(result_line)"
      ],
      "metadata": {
        "colab": {
          "base_uri": "https://localhost:8080/"
        },
        "id": "cTlzlinZjQRE",
        "outputId": "74c06cb2-828e-45c4-98bc-a0fc9bde985b"
      },
      "execution_count": 14,
      "outputs": [
        {
          "output_type": "stream",
          "name": "stdout",
          "text": [
            "['MARCO POLO ORTIGAS MANILA', 'ApPaumo', 'FRONTIER ORTIGAS', 'HOTEL and RESORT CORP', '1600 Philippines', 'VAT REG TIN:008-611-772-000', 'LUNG HIN', 'Table:B1 OR333099-00', 'Date :08 Feb.15 Time 12:45', 'Staff ALEMIR Cover', '*1 JASMINE 178.57', '1 ST.CHX FEET X0 160.71', '*1 ST.PORK SIOMAI 196.43', '*1 ST.G RICE ABALONE 196.43', '1 ST.SPINACH DUMPLING 196.43', '*2 ST.SCALLOP DUMPLING 428.58', 'K1 BAKED BBQ PORK BUN 196.43', '*1 PANFRIED ONION CAKE 196.43', '1 FISH SCALLOP SP FX 339.29', '*1 MAR BEEF GARLIC 517.86', 'MPM DP 15% Bey -26.79', 'MPM Dining Privilege -809.44', 'Sub-TotaI 1770.93', 'VATable 1770.93', '10% S.C 260.72', '12% VAT 212.51', 'LTax Fd/B 49.59', 'Total: 2299.75']\n"
          ]
        }
      ]
    },
    {
      "cell_type": "markdown",
      "source": [
        "# 04. list the consumed items and prices. I used python regular expression to findout the string that I need using r_pattern"
      ],
      "metadata": {
        "id": "J_evZ52pOizT"
      }
    },
    {
      "cell_type": "code",
      "source": [
        "import re\n",
        "items=[]\n",
        "\n",
        "for i in result_line:\n",
        "  x=re.search(r\"[0-9]{1,5}[.,][0-9]{2}$\",i)                \n",
        "  if(x):\n",
        "    rest_i = i.split(' ', 1)[1]\n",
        "    items.append(rest_i)\n",
        "\n",
        "\n",
        "#filtering the consumed items and prices\n",
        "c_items=[]\n",
        "for i in items:\n",
        "  item_price={\"item\":\"no data\",\"price\":\"no data\"}\n",
        "  breaking_status=re.search(r'[0-9]*[%]',i)\n",
        "  i=i.rsplit(' ',1)\n",
        "  if (breaking_status):\n",
        "    break\n",
        "  item_price[\"item\"]=i[0]\n",
        "  item_price[\"price\"]=i[1]\n",
        "\n",
        "  c_items.append(item_price)\n",
        "\n",
        "print(c_items)\n",
        "    \n"
      ],
      "metadata": {
        "id": "O68_dYm-otw2"
      },
      "execution_count": null,
      "outputs": []
    },
    {
      "cell_type": "markdown",
      "source": [
        "# 05. Using regular expression I found the needed string from the result_line list. Then I foundout the needed attributes using grouping method of regular expression"
      ],
      "metadata": {
        "id": "A9bESxLnO8Hz"
      }
    },
    {
      "cell_type": "code",
      "source": [
        "for line in result_line:\n",
        "  table_match = re.search(r'Table[ ]{0,1}[:]{0,1}[ ]{0,1}([A-Z][0-9])', line)\n",
        "  if table_match:\n",
        "    for value in table_match.groups():\n",
        "            tble=value\n",
        "\n",
        "  or_number_match = re.search(r'OR[#]{0,1}[ ]{0,1}[:]{0,1}[ ]{0,1}([0-9]{6}[-]{0,1}[0-9]{2})', line)\n",
        "  if or_number_match:\n",
        "    for value in or_number_match.groups():\n",
        "            Order_number=value\n",
        "\n",
        "  date_match = re.search(r'Date[ ]{0,1}[:]{0,1}[ ]{0,1}([0-3][0-9][ ]{0,1}[A-Z][a-z]{2}[.,]{0,1}[0-9]{2})', line)\n",
        "  if date_match:\n",
        "    for value in date_match.groups():\n",
        "            dt=value\n",
        "  \n",
        "  time_match = re.search(r'Time[ ]{0,1}[:]{0,1}[ ]{0,1}([0-9]{2}[:]{0,1}[0-9]{2})', line)\n",
        "  if time_match:\n",
        "    for value in time_match.groups():\n",
        "            tm=value\n",
        "\n",
        "  staff_match = re.search(r'Staff[ ]{0,1}[:]{0,1}[ ]{0,1}([A-Z]{0,20})', line)\n",
        "  if staff_match:\n",
        "    for value in staff_match.groups():\n",
        "            stff=value\n",
        "\n",
        "  sub_total_match = re.search(r'Sub[ ]{0,1}[-]{0,1}[ ]{0,1}Tota[l,I]{0,1}[ ]{0,1}([0-9]{0,9}[.]{0,1}[0-9]{2})', line)\n",
        "  if sub_total_match:\n",
        "    for value in sub_total_match.groups():\n",
        "            s_ttl=value\n",
        "  \n",
        "  total_match = re.search(r'Sub[ ]{0,1}[-]{0,1}[ ]{0,1}Tota[l,I]{0,1}[ ]{0,1}([0-9]{0,9}[.]{0,1}[0-9]{2})', line)\n",
        "  if sub_total_match:\n",
        "    for value in sub_total_match.groups():\n",
        "            ttl=value\n",
        "    "
      ],
      "metadata": {
        "id": "ZcNFlbSi7kx5"
      },
      "execution_count": 42,
      "outputs": []
    },
    {
      "cell_type": "markdown",
      "source": [
        "# 06. I created the output as a dictionary and I updated the keys and values"
      ],
      "metadata": {
        "id": "Cf1uMcVlPd0n"
      }
    },
    {
      "cell_type": "code",
      "source": [
        "Output= {\"table\":\"no data\",\"staff\":\"no data\",\"order number\":\"no data\",\"date\":\"no data\",\"time\":\"no data\",\"consumeditems\":\"no data\",\"sub total\":\"no data\",\"total\":\"no data\"}"
      ],
      "metadata": {
        "id": "kGrV5cpJvGpC"
      },
      "execution_count": 37,
      "outputs": []
    },
    {
      "cell_type": "markdown",
      "source": [
        "# 07. Then, I updated the values by accesing the keys of output dictionary by the informations of bill"
      ],
      "metadata": {
        "id": "PiU15QJvP_7E"
      }
    },
    {
      "cell_type": "code",
      "source": [
        "Output[\"table\"]=tble\n",
        "Output[\"staff\"]=stff\n",
        "Output[\"order number\"]=Order_number\n",
        "Output[\"date\"]=dt\n",
        "Output[\"time\"]=tm\n",
        "Output[\"consumeditems\"]=c_items\n",
        "Output[\"sub total\"]=s_ttl\n",
        "Output[\"total\"]=ttl"
      ],
      "metadata": {
        "id": "s-H2tcYl_w1J"
      },
      "execution_count": 43,
      "outputs": []
    },
    {
      "cell_type": "code",
      "source": [
        "print(Output)"
      ],
      "metadata": {
        "colab": {
          "base_uri": "https://localhost:8080/"
        },
        "id": "_a9_if___5Ar",
        "outputId": "ea8d8e06-f993-4a63-ad0c-6a903f5418c2"
      },
      "execution_count": 44,
      "outputs": [
        {
          "output_type": "stream",
          "name": "stdout",
          "text": [
            "{'table': 'B1', 'staff': 'ALEMIR', 'order number': '333099-00', 'date': '08 Feb.15', 'time': '12:45', 'consumeditems': [{'item': 'JASMINE', 'price': '178.57'}, {'item': 'ST.CHX FEET X0', 'price': '160.71'}, {'item': 'ST.PORK SIOMAI', 'price': '196.43'}, {'item': 'ST.G RICE ABALONE', 'price': '196.43'}, {'item': 'ST.SPINACH DUMPLING', 'price': '196.43'}, {'item': 'ST.SCALLOP DUMPLING', 'price': '428.58'}, {'item': 'BAKED BBQ PORK BUN', 'price': '196.43'}, {'item': 'PANFRIED ONION CAKE', 'price': '196.43'}, {'item': 'FISH SCALLOP SP FX', 'price': '339.29'}, {'item': 'MAR BEEF GARLIC', 'price': '517.86'}], 'sub total': '1770.93', 'total': '1770.93'}\n"
          ]
        }
      ]
    },
    {
      "cell_type": "markdown",
      "source": [
        "# 08. Finally, I saved the output in a json file"
      ],
      "metadata": {
        "id": "ozqGkPKRQO7b"
      }
    },
    {
      "cell_type": "code",
      "source": [
        "import json"
      ],
      "metadata": {
        "id": "_3qeDc4nJeNv"
      },
      "execution_count": 45,
      "outputs": []
    },
    {
      "cell_type": "code",
      "source": [
        "with open('output.json', 'w') as f:\n",
        "    json.dump(Output, f)"
      ],
      "metadata": {
        "id": "7Php-sUHJleo"
      },
      "execution_count": 46,
      "outputs": []
    }
  ]
}